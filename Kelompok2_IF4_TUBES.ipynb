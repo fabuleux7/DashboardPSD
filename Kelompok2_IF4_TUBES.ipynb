{
  "nbformat": 4,
  "nbformat_minor": 0,
  "metadata": {
    "colab": {
      "provenance": []
    },
    "kernelspec": {
      "name": "python3",
      "display_name": "Python 3"
    },
    "language_info": {
      "name": "python"
    }
  },
  "cells": [
    {
      "cell_type": "markdown",
      "source": [
        "# Proyek Analisis Data: Tugas Besar Pemograman Sains Data\n",
        "- Kelompok : 2\n",
        "- Anggota : </br>\n",
        "10123162 - Dimas Akbar Al.hafidz</br>\n",
        "10123140 - Siti Wardah Amelia</br>\n",
        "10123129 - Sandika Nur Rizki S</br>\n",
        "10123167 - Ryo Arya Pribadi</br>\n",
        "10123170 - Mochamad Yogi Ady P\n",
        "\n"
      ],
      "metadata": {
        "id": "XBVKaX4rph4M"
      }
    },
    {
      "cell_type": "markdown",
      "source": [
        "**CASE 1 - Dimas Akbar Alhafidz** </br>\n",
        "Analisis data ini mencakup beberapa aspek penting dalam memahami kepuasan pelanggan. Pertama, distribusi skor review menunjukkan bahwa mayoritas pelanggan memberikan skor tinggi, mengindikasikan tingkat kepuasan yang baik secara keseluruhan. Namun, masih ada sebagian kecil ulasan dengan skor rendah yang perlu dianalisis lebih lanjut. Selanjutnya, keterlambatan pengiriman terbukti berdampak negatif terhadap skor review pelanggan, dengan pesanan yang tepat waktu mendapatkan skor lebih tinggi dibandingkan yang terlambat.\n",
        "\n",
        "Dalam analisis jumlah produk dalam pesanan terhadap kepuasan pelanggan, tidak ditemukan pola yang jelas, menunjukkan bahwa faktor lain mungkin lebih mempengaruhi ulasan pelanggan. Sementara itu, metode pembayaran tidak memiliki dampak signifikan terhadap skor review, karena semua metode memiliki rata-rata kepuasan yang hampir serupa. Kategori produk dengan kepuasan tertinggi mencakup musik, pakaian anak, dan buku, sementara kategori dengan skor terendah termasuk layanan, PC gaming, dan perlengkapan bayi. Hal ini menunjukkan bahwa beberapa jenis produk mungkin memiliki masalah terkait kualitas atau ekspektasi pelanggan.\n",
        "\n",
        "Secara keseluruhan, analisis ini menyoroti pentingnya pengelolaan pengiriman yang lebih baik, peningkatan kualitas produk tertentu, dan pemahaman lebih dalam terhadap faktor-faktor yang mempengaruhi kepuasan pelanggan agar bisnis dapat meningkatkan layanan dan mempertahankan loyalitas pelanggan.\n",
        "\n"
      ],
      "metadata": {
        "id": "tphkQbA0p7zS"
      }
    },
    {
      "cell_type": "markdown",
      "source": [
        "**CASE 2 - Sandika Nur Rizki Sendi**\n",
        "\n",
        "Analisis ini bertujuan untuk mengidentifikasi produk yang paling sering dibeli oleh pelanggan dalam suatu periode tertentu. Dengan memahami tren pembelian ini, perusahaan dapat menyesuaikan strategi bisnis mereka, seperti meningkatkan ketersediaan stok, merancang promosi yang lebih efektif, dan mengoptimalkan kategori produk yang paling diminati. Analisis ini sangat penting dalam dunia e-commerce karena dapat memberikan wawasan berbasis data tentang perilaku konsumen.  \n",
        "\n",
        "Tahapan analisis dimulai dengan **memahami dataset**, yaitu dengan mengeksplorasi struktur data, mengidentifikasi kolom yang relevan, serta memeriksa adanya data yang hilang atau tidak valid. Selanjutnya, dilakukan **pengolahan data**, seperti menghubungkan dataset pesanan dengan dataset produk berdasarkan `product_id`, lalu menghitung jumlah pesanan untuk setiap produk. Setelah itu, data diurutkan berdasarkan frekuensi pembelian tertinggi untuk mendapatkan daftar produk yang paling banyak dipesan.  \n",
        "\n",
        "Setelah mendapatkan hasil, langkah terakhir adalah **interpretasi dan visualisasi data**. Interpretasi dilakukan dengan menganalisis pola pembelian dan kategori produk yang dominan, sementara visualisasi dapat menggunakan tabel atau grafik untuk mempermudah pemahaman hasil analisis. Dengan pendekatan ini, analisis tidak hanya memberikan angka statistik tetapi juga menghasilkan wawasan yang dapat digunakan untuk pengambilan keputusan strategis dalam bisnis berbasis data."
      ],
      "metadata": {
        "id": "lCrdzDtNc031"
      }
    },
    {
      "cell_type": "markdown",
      "source": [
        "CASE 3 - Siti Wardah Amelia\n",
        "\n",
        "Analisis mengenai produk dengan jumlah ulasan terbanyak bertujuan untuk memahami popularitas dan tingkat keterlibatan pelanggan terhadap suatu produk. Jumlah ulasan yang tinggi dapat menjadi indikator bahwa produk tersebut memiliki daya tarik yang kuat di pasar dan banyak digunakan oleh konsumen.\n",
        "\n",
        "Melalui identifikasi produk yang paling banyak mendapat ulasan, beberapa wawasan penting dapat diperoleh, seperti tren produk yang sedang diminati, tingkat kepuasan pelanggan, serta potensi masalah yang sering muncul dalam ulasan. Selain itu, data ini juga dapat digunakan untuk mengoptimalkan strategi pemasaran dengan fokus pada produk yang memiliki daya tarik tinggi serta mengelola stok dan penawaran agar lebih sesuai dengan permintaan pasar.\n",
        "\n",
        "Dengan menganalisis pola ulasan pelanggan, bisnis dapat mengambil keputusan yang lebih tepat berbasis data, meningkatkan pengalaman pelanggan, serta mengembangkan strategi yang lebih efektif dalam pemasaran dan manajemen produk.\n",
        "\n"
      ],
      "metadata": {
        "id": "MQ9k0yQxN_hu"
      }
    },
    {
      "cell_type": "markdown",
      "source": [
        "**CASE 4 - Ryo Arya Pribadi**\n",
        "\n",
        "Analisis pengaruh rating produk terhadap penjualan menunjukkan bahwa terdapat hubungan yang signifikan antara kualitas produk yang diukur melalui rating dengan volume penjualan. Berdasarkan data yang tersedia, produk dengan rating tinggi cenderung memiliki penjualan yang lebih baik. Sebagai contoh, produk dalam kategori \"perfumaria\" dan \"relogios_presentes\" dengan rating 5 memiliki penjualan yang stabil. Hal ini mengindikasikan bahwa konsumen lebih memilih produk dengan ulasan positif, yang mencerminkan kepuasan pelanggan terhadap kualitas produk.\n",
        "\n",
        "Selain itu, produk dengan rating rata-rata di atas 4, seperti dalam kategori \"beleza_saude\" dan \"utilidades_domesticas\", juga menunjukkan penjualan yang cukup baik. Ini menunjukkan bahwa meskipun rating tidak sempurna, produk dengan kualitas yang konsisten masih dapat menarik minat pembeli. Di sisi lain, produk dengan rating rendah, seperti dalam kategori \"automotivo\" dan \"pet_shop\", cenderung memiliki penjualan yang lebih rendah, yang menegaskan pentingnya menjaga kualitas produk untuk meningkatkan kepercayaan dan kepuasan konsumen.\n",
        "\n",
        "Secara keseluruhan, data ini menggarisbawahi pentingnya menjaga kualitas produk dan memastikan bahwa produk mendapatkan rating yang tinggi untuk mendorong peningkatan penjualan. Perusahaan dapat memanfaatkan informasi ini untuk mengidentifikasi area perbaikan dan mengembangkan strategi pemasaran yang lebih efektif berdasarkan umpan balik pelanggan."
      ],
      "metadata": {
        "id": "bC_k0gcgj_27"
      }
    },
    {
      "cell_type": "markdown",
      "source": [
        "**CASE 5 - Mochamad Yogi Ady Pratama**\n",
        "\n",
        "Analisis data ini mencakup beberapa aspek penting dalam memahami preferensi metode pembayaran pelanggan. Pertama, distribusi jumlah transaksi menunjukkan bahwa metode pembayaran dengan kartu kredit (credit card) mendominasi secara signifikan dengan jumlah transaksi tertinggi, yaitu 76.795 transaksi. Hal ini menunjukkan preferensi kuat pelanggan terhadap metode ini, kemungkinan karena kemudahan dan fleksibilitas yang ditawarkan.\n",
        "\n",
        "Di sisi lain, metode pembayaran lainnya seperti boleto (19.784 transaksi) dan voucher (5.775 transaksi) masih digunakan meskipun dengan frekuensi yang jauh lebih rendah. Metode pembayaran dengan kartu debit (debit card) memiliki jumlah transaksi yang paling sedikit, yaitu 1.529 transaksi, yang dapat mengindikasikan keterbatasan akses atau preferensi pelanggan yang lebih rendah terhadap metode ini. Selain itu, terdapat tiga transaksi dengan status not_defined, yang mungkin memerlukan investigasi lebih lanjut terkait kevalidan data.\n",
        "\n",
        "Selanjutnya, grafik visualisasi yang digunakan membantu memperjelas perbedaan signifikan antara berbagai metode pembayaran, dengan jarak yang besar antara transaksi menggunakan kartu kredit dan metode lainnya. Hal ini dapat menjadi indikasi bahwa metode pembayaran digital (terutama kartu kredit) masih menjadi pilihan utama."
      ],
      "metadata": {
        "id": "nWGeF7m6I8Ut"
      }
    },
    {
      "cell_type": "code",
      "source": [
        "\n",
        "import pandas as pd\n",
        "import matplotlib.pyplot as plt\n",
        "import numpy as np\n",
        "import seaborn as sns"
      ],
      "metadata": {
        "id": "umaI76BmTrhP"
      },
      "execution_count": 4,
      "outputs": []
    },
    {
      "cell_type": "code",
      "source": [
        "# Membaca dataset dari file CSV\n",
        "df_customers = pd.read_csv('customers_dataset.csv')\n",
        "df_geolocation = pd.read_csv('geolocation_dataset.csv')\n",
        "df_order_items = pd.read_csv('order_items_dataset.csv')\n",
        "df_order_payments = pd.read_csv('order_payments_dataset.csv')\n",
        "df_order_reviews = pd.read_csv('order_reviews_dataset.csv')\n",
        "df_orders = pd.read_csv('orders_dataset.csv')\n",
        "df_product_category_ = pd.read_csv('product_category_name_translation.csv')\n",
        "df_products = pd.read_csv('products_dataset.csv')\n",
        "df_sellers = pd.read_csv('sellers_dataset.csv')"
      ],
      "metadata": {
        "id": "g3V_87vrTAP0"
      },
      "execution_count": 5,
      "outputs": []
    },
    {
      "cell_type": "code",
      "source": [
        "# **Fungsi utama untuk menggabungkan dataset dan melakukan analisis**\n",
        "def Analisis_Kepuasan():\n",
        "    global keterlambatan_vs_review, produk_vs_review, pembayaran_vs_review, kategori_vs_review  # Buat variabel global agar bisa dipakai di fungsi lain\n",
        "\n",
        "    # Menggabungkan dataset yang relevan\n",
        "    df_merged = df_orders.merge(df_order_reviews, on='order_id', how='inner')\n",
        "    df_merged = df_merged.merge(df_order_items, on='order_id', how='inner')\n",
        "    df_merged = df_merged.merge(df_order_payments, on='order_id', how='inner')\n",
        "    df_merged = df_merged.merge(df_products, on='product_id', how='left')\n",
        "\n",
        "    # Konversi tanggal ke format datetime\n",
        "    df_merged['order_delivered_customer_date'] = pd.to_datetime(df_merged['order_delivered_customer_date'])\n",
        "    df_merged['order_estimated_delivery_date'] = pd.to_datetime(df_merged['order_estimated_delivery_date'])\n",
        "\n",
        "    # Menghitung keterlambatan pengiriman\n",
        "    df_merged['Terlambat'] = np.where(df_merged['order_delivered_customer_date'] > df_merged['order_estimated_delivery_date'], 1, 0)\n",
        "\n",
        "    # Menghitung jumlah produk dalam pesanan\n",
        "    df_merged['Jumlah Produk'] = df_merged.groupby('order_id')['order_item_id'].transform('count')\n",
        "\n",
        "    # Analisis keterlambatan terhadap review\n",
        "    keterlambatan_vs_review = df_merged.groupby('Terlambat')['review_score'].mean().reset_index()\n",
        "\n",
        "    # Analisis jumlah produk terhadap review\n",
        "    produk_vs_review = df_merged.groupby('Jumlah Produk')['review_score'].mean().reset_index()\n",
        "\n",
        "    # Analisis metode pembayaran terhadap review\n",
        "    pembayaran_vs_review = df_merged.groupby('payment_type')['review_score'].mean().reset_index()\n",
        "\n",
        "    # Analisis kategori produk terhadap review\n",
        "    kategori_vs_review = df_merged.groupby('product_category_name')['review_score'].mean().reset_index()"
      ],
      "metadata": {
        "id": "u7b5ifzUUE9j"
      },
      "execution_count": 6,
      "outputs": []
    },
    {
      "cell_type": "code",
      "source": [
        "#CASE 1\n",
        "\n",
        "# **1. Distribusi Skor Review**\n",
        "def distribusi_review():\n",
        "    st.header(\"Distribusi Skor Review\")\n",
        "    st.dataframe(df_order_reviews['review_score'].value_counts().reset_index().rename(columns={'index': 'Review Score', 'review_score': 'Jumlah'}))\n",
        "\n",
        "    fig, ax = plt.subplots(figsize=(8,5))\n",
        "    sns.countplot(x=df_order_reviews['review_score'], palette=\"viridis\", ax=ax)\n",
        "    ax.set_xlabel(\"Review Score\")\n",
        "    ax.set_ylabel(\"Jumlah Ulasan\")\n",
        "    ax.set_title(\"Distribusi Skor Review\")\n",
        "    st.pyplot(fig)\n",
        "\n",
        "# **2. Pengaruh Keterlambatan Pengiriman terhadap Review Score**\n",
        "def keterlambatan_vs_review_score():\n",
        "    st.header(\"Pengaruh Keterlambatan Pengiriman terhadap Kepuasan Pelanggan\")\n",
        "    st.dataframe(keterlambatan_vs_review)\n",
        "\n",
        "    fig, ax = plt.subplots(figsize=(6,4))\n",
        "    sns.barplot(x=['Tepat Waktu', 'Terlambat'], y=keterlambatan_vs_review['review_score'], palette=['green', 'red'], ax=ax)\n",
        "    ax.set_ylabel(\"Rata-rata Skor Review\")\n",
        "    ax.set_title(\"Pengaruh Keterlambatan Pengiriman terhadap Kepuasan Pelanggan\")\n",
        "    st.pyplot(fig)\n",
        "\n",
        "# **3. Pengaruh Jumlah Produk dalam Pesanan terhadap Review Score**\n",
        "def jumlah_produk_vs_review():\n",
        "    st.header(\"Pengaruh Jumlah Produk dalam Pesanan terhadap Kepuasan Pelanggan\")\n",
        "    st.dataframe(produk_vs_review)\n",
        "\n",
        "    fig, ax = plt.subplots(figsize=(8,5))\n",
        "    sns.lineplot(x=produk_vs_review['Jumlah Produk'], y=produk_vs_review['review_score'], marker='o', ax=ax)\n",
        "    ax.set_xlabel(\"Jumlah Produk dalam Pesanan\")\n",
        "    ax.set_ylabel(\"Rata-rata Skor Review\")\n",
        "    ax.set_title(\"Jumlah Produk dalam Pesanan vs Kepuasan Pelanggan\")\n",
        "    st.pyplot(fig)\n",
        "\n",
        "# **4. Pengaruh Metode Pembayaran terhadap Review Score**\n",
        "def metode_pembayaran_vs_review():\n",
        "    st.header(\"Pengaruh Metode Pembayaran terhadap Kepuasan Pelanggan\")\n",
        "    st.dataframe(pembayaran_vs_review)\n",
        "\n",
        "    fig, ax = plt.subplots(figsize=(8,5))\n",
        "    sns.barplot(x=pembayaran_vs_review['payment_type'], y=pembayaran_vs_review['review_score'], palette=\"magma\", ax=ax)\n",
        "    ax.set_xlabel(\"Metode Pembayaran\")\n",
        "    ax.set_ylabel(\"Rata-rata Skor Review\")\n",
        "    ax.set_title(\"Metode Pembayaran vs Kepuasan Pelanggan\")\n",
        "    plt.xticks(rotation=45)\n",
        "    st.pyplot(fig)\n",
        "\n",
        "# **5. Pengaruh Kategori Produk terhadap Review Score**\n",
        "def kategori_produk_vs_review():\n",
        "    st.header(\"Pengaruh Kategori Produk terhadap Kepuasan Pelanggan\")\n",
        "    top_10_kategori = kategori_vs_review.sort_values(by='review_score', ascending=False).head(10)\n",
        "    bottom_10_kategori = kategori_vs_review.sort_values(by='review_score', ascending=True).head(10)\n",
        "\n",
        "    st.subheader(\"Top 10 Kategori Produk dengan Kepuasan Tertinggi\")\n",
        "    st.dataframe(top_10_kategori)\n",
        "\n",
        "    fig, ax = plt.subplots(figsize=(10,5))\n",
        "    sns.barplot(y=top_10_kategori['product_category_name'], x=top_10_kategori['review_score'], palette=\"coolwarm\", ax=ax)\n",
        "    ax.set_xlabel(\"Rata-rata Skor Review\")\n",
        "    ax.set_ylabel(\"Kategori Produk\")\n",
        "    ax.set_title(\" 10 Kategori Produk dengan Kepuasan Tertinggi\")\n",
        "    st.pyplot(fig)\n",
        "\n",
        "    st.subheader(\" 10 Kategori Produk dengan Kepuasan Terendah\")\n",
        "    st.dataframe(bottom_10_kategori)\n",
        "\n",
        "    fig, ax = plt.subplots(figsize=(10,5))\n",
        "    sns.barplot(y=bottom_10_kategori['product_category_name'], x=bottom_10_kategori['review_score'], palette=\"coolwarm_r\", ax=ax)\n",
        "    ax.set_xlabel(\"Rata-rata Skor Review\")\n",
        "    ax.set_ylabel(\"Kategori Produk\")\n",
        "    ax.set_title(\"Bottom 10 Kategori Produk dengan Kepuasan Terendah\")\n",
        "    st.pyplot(fig)"
      ],
      "metadata": {
        "id": "_xiH71sgUGV5"
      },
      "execution_count": 7,
      "outputs": []
    },
    {
      "cell_type": "code",
      "source": [
        "# CASE 2\n",
        "def Analisis_Pola_Pembelian():\n",
        "    st.header(\"Analisis Pola Pembelian Pelanggan\")\n",
        "\n",
        "    # Menghitung jumlah pesanan per pelanggan\n",
        "    df_customer_orders = df_orders.groupby('customer_id').size().reset_index(name='Total_Pesanan')\n",
        "    top_customers = df_customer_orders.sort_values(by='Total_Pesanan', ascending=False).head(10)\n",
        "\n",
        "    # Menghitung rata-rata jumlah barang per pelanggan\n",
        "    df_order_items_merged = df_order_items.merge(df_orders[['order_id', 'customer_id']], on='order_id', how='left')\n",
        "    df_customer_items = df_order_items_merged.groupby('customer_id')['order_item_id'].count().reset_index(name='Total_Barang')\n",
        "    avg_items_per_customer = df_customer_items['Total_Barang'].mean()\n",
        "\n",
        "    # Visualisasi 1: Distribusi pesanan per pelanggan\n",
        "    fig, ax = plt.subplots(figsize=(8,5))\n",
        "    sns.histplot(df_customer_orders['Total_Pesanan'], bins=30, kde=True, color='blue', ax=ax)\n",
        "    ax.set_xlabel(\"Jumlah Pesanan per Pelanggan\")\n",
        "    ax.set_ylabel(\"Jumlah Pelanggan\")\n",
        "    ax.set_title(\"Distribusi Jumlah Pesanan per Pelanggan\")\n",
        "    st.pyplot(fig)\n",
        "\n",
        "    # Visualisasi 2: Top 10 pelanggan dengan pesanan terbanyak\n",
        "    fig, ax = plt.subplots(figsize=(10,5))\n",
        "    sns.barplot(y=top_customers['customer_id'], x=top_customers['Total_Pesanan'], palette=\"coolwarm\", ax=ax)\n",
        "    ax.set_xlabel(\"Total Pesanan\")\n",
        "    ax.set_ylabel(\"Customer ID\")\n",
        "    ax.set_title(\"Top 10 Pelanggan dengan Pesanan Terbanyak\")\n",
        "    st.pyplot(fig)\n",
        "\n",
        "def Analisis_Penjual():\n",
        "    st.header(\"Analisis Penjual (Sellers)\")\n",
        "\n",
        "    # Menghitung jumlah penjual per kota\n",
        "    df_seller_city = df_sellers['seller_city'].value_counts().reset_index()\n",
        "    df_seller_city.columns = ['Kota', 'Jumlah_Penjual']\n",
        "\n",
        "    # Rata-rata rating per penjual\n",
        "    df_seller_reviews = df_order_reviews.merge(df_order_items, on='order_id', how='inner')\n",
        "    df_seller_reviews = df_seller_reviews.groupby('seller_id')['review_score'].mean().reset_index()\n",
        "    df_seller_reviews.columns = ['Seller_ID', 'Rata_Rata_Review']\n",
        "\n",
        "    # Penjual dengan transaksi terbanyak\n",
        "    df_seller_orders = df_order_items.groupby('seller_id').size().reset_index(name='Total_Transaksi')\n",
        "    top_sellers = df_seller_orders.sort_values(by='Total_Transaksi', ascending=False).head(10)\n",
        "\n",
        "    # Visualisasi 1: Kota dengan jumlah penjual terbanyak\n",
        "    fig, ax = plt.subplots(figsize=(10,5))\n",
        "    sns.barplot(y=df_seller_city['Kota'][:10], x=df_seller_city['Jumlah_Penjual'][:10], palette=\"magma\", ax=ax)\n",
        "    ax.set_xlabel(\"Jumlah Penjual\")\n",
        "    ax.set_ylabel(\"Kota\")\n",
        "    ax.set_title(\"Top 10 Kota dengan Jumlah Penjual Terbanyak\")\n",
        "    st.pyplot(fig)\n",
        "\n",
        "    # Visualisasi 2: Penjual dengan transaksi terbanyak\n",
        "    fig, ax = plt.subplots(figsize=(10,5))\n",
        "    sns.barplot(y=top_sellers['seller_id'], x=top_sellers['Total_Transaksi'], palette=\"viridis\", ax=ax)\n",
        "    ax.set_xlabel(\"Total Transaksi\")\n",
        "    ax.set_ylabel(\"Seller ID\")\n",
        "    ax.set_title(\"Top 10 Penjual dengan Transaksi Terbanyak\")\n",
        "    st.pyplot(fig)"
      ],
      "metadata": {
        "id": "XNcF23DgUV8I"
      },
      "execution_count": 10,
      "outputs": []
    },
    {
      "cell_type": "code",
      "source": [
        "#Case 3\n",
        "# **CASE 3: Produk dengan Ulasan Terbanyak**\n",
        "def Produk_Terbanyak_Ulasan():\n",
        "\n",
        "\n",
        "    # Menghitung jumlah ulasan per produk\n",
        "    df_product_reviews = df_order_reviews.merge(df_order_items, on='order_id', how='inner')\n",
        "    df_product_reviews = df_product_reviews.groupby('product_id').size().reset_index(name='Total_Ulasan')\n",
        "\n",
        "    # Menggabungkan dengan dataset produk untuk mendapatkan nama produk\n",
        "    df_product_reviews = df_product_reviews.merge(df_products[['product_id', 'product_category_name']], on='product_id', how='left')\n",
        "\n",
        "    # Mengurutkan produk berdasarkan jumlah ulasan terbanyak\n",
        "    top_reviewed_products = df_product_reviews.sort_values(by='Total_Ulasan', ascending=False).head(10)\n",
        "\n",
        "    # Menampilkan tabel hasil analisis\n",
        "    st.dataframe(top_reviewed_products)\n",
        "\n",
        "    # Visualisasi: Produk dengan jumlah ulasan terbanyak\n",
        "    fig, ax = plt.subplots(figsize=(10,5))\n",
        "    sns.barplot(y=top_reviewed_products['product_category_name'], x=top_reviewed_products['Total_Ulasan'], palette=\"coolwarm\", ax=ax)\n",
        "    ax.set_xlabel(\"Total Ulasan\")\n",
        "    ax.set_ylabel(\"Kategori Produk\")\n",
        "    ax.set_title(\"Top 10 Produk dengan Ulasan Terbanyak\")\n",
        "    st.pyplot(fig)"
      ],
      "metadata": {
        "id": "woIXJ8WxUZj7"
      },
      "execution_count": 11,
      "outputs": []
    },
    {
      "cell_type": "code",
      "source": [
        "#Case 4\n",
        "# **CASE 4: Analisis Pengaruh Rating Produk terhadap Penjualan**\n",
        "def Analisis_Rating_vs_Penjualan():\n",
        "\n",
        "\n",
        "    # Menggabungkan dataset review dengan order items\n",
        "    df_rating_sales = df_order_reviews.merge(df_order_items, on='order_id', how='inner')\n",
        "\n",
        "    # Menghitung rata-rata rating per produk\n",
        "    df_avg_rating = df_rating_sales.groupby('product_id')['review_score'].mean().reset_index()\n",
        "    df_avg_rating.columns = ['product_id', 'Rata_Rata_Rating']\n",
        "\n",
        "    # Menghitung jumlah penjualan per produk\n",
        "    df_sales = df_rating_sales.groupby('product_id').size().reset_index(name='Total_Penjualan')\n",
        "\n",
        "    # Menggabungkan rating dengan penjualan\n",
        "    df_rating_sales_analysis = df_avg_rating.merge(df_sales, on='product_id', how='left')\n",
        "\n",
        "    # Menghubungkan dengan kategori produk\n",
        "    df_rating_sales_analysis = df_rating_sales_analysis.merge(df_products[['product_id', 'product_category_name']], on='product_id', how='left')\n",
        "\n",
        "    # Menampilkan tabel hasil analisis\n",
        "    st.dataframe(df_rating_sales_analysis.head(20))\n",
        "\n",
        "    # Visualisasi 1: Scatter Plot Rating vs Total Penjualan\n",
        "    fig, ax = plt.subplots(figsize=(10,5))\n",
        "    sns.scatterplot(x=df_rating_sales_analysis['Rata_Rata_Rating'], y=df_rating_sales_analysis['Total_Penjualan'], alpha=0.7)\n",
        "    ax.set_xlabel(\"Rata-rata Rating Produk\")\n",
        "    ax.set_ylabel(\"Total Penjualan\")\n",
        "    ax.set_title(\"Pengaruh Rating Produk terhadap Penjualan\")\n",
        "    st.pyplot(fig)\n",
        "\n",
        "    # Visualisasi 2: Top 10 Produk Berdasarkan Rating\n",
        "    top_rated_products = df_rating_sales_analysis.sort_values(by='Rata_Rata_Rating', ascending=False).head(10)\n",
        "    fig, ax = plt.subplots(figsize=(10,5))\n",
        "    sns.barplot(y=top_rated_products['product_category_name'], x=top_rated_products['Rata_Rata_Rating'], palette=\"coolwarm\", ax=ax)\n",
        "    ax.set_xlabel(\"Rata-rata Rating\")\n",
        "    ax.set_ylabel(\"Kategori Produk\")\n",
        "    ax.set_title(\"Top 10 Produk dengan Rating Tertinggi\")\n",
        "    st.pyplot(fig)"
      ],
      "metadata": {
        "id": "2NDft8GTUndq"
      },
      "execution_count": 12,
      "outputs": []
    },
    {
      "cell_type": "code",
      "source": [
        "# Case 5\n",
        "def Analisis_Metode_Pembayaran():\n",
        "\n",
        "    # Menghitung jumlah penggunaan metode pembayaran\n",
        "    df_payment_count = df_order_payments['payment_type'].value_counts().reset_index()\n",
        "    df_payment_count.columns = ['Metode_Pembayaran', 'Jumlah_Transaksi']\n",
        "\n",
        "    # Menampilkan tabel hasil analisis\n",
        "    st.dataframe(df_payment_count)\n",
        "\n",
        "    # Visualisasi: Metode pembayaran paling sering digunakan\n",
        "    fig, ax = plt.subplots(figsize=(10,5))\n",
        "    sns.barplot(x=df_payment_count['Metode_Pembayaran'], y=df_payment_count['Jumlah_Transaksi'], palette=\"coolwarm\", ax=ax)\n",
        "    ax.set_xlabel(\"Metode Pembayaran\")\n",
        "    ax.set_ylabel(\"Jumlah Transaksi\")\n",
        "    ax.set_title(\"Metode Pembayaran Paling Sering Digunakan\")\n",
        "    plt.xticks(rotation=45)\n",
        "    st.pyplot(fig)"
      ],
      "metadata": {
        "id": "lANCFnlFUtk4"
      },
      "execution_count": 13,
      "outputs": []
    }
  ]
}