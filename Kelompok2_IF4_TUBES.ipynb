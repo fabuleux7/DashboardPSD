{
  "nbformat": 4,
  "nbformat_minor": 0,
  "metadata": {
    "colab": {
      "provenance": []
    },
    "kernelspec": {
      "name": "python3",
      "display_name": "Python 3"
    },
    "language_info": {
      "name": "python"
    }
  },
  "cells": [
    {
      "cell_type": "markdown",
      "source": [
        "# Proyek Analisis Data: Tugas Besar Pemograman Sains Data\n",
        "- Kelompok : 2\n",
        "- Anggota : </br>\n",
        "10123162 - Dimas Akbar Al.hafidz</br>\n",
        "10123140 - Siti Wardah Amelia</br>\n",
        "10123129 - Sandika Nur Rizki S</br>\n",
        "10123167 - Ryo Arya Pribadi</br>\n",
        "10123170 - Mochamad Yogi Ady P\n",
        "\n"
      ],
      "metadata": {
        "id": "XBVKaX4rph4M"
      }
    },
    {
      "cell_type": "markdown",
      "source": [
        "**CASE 1 - Dimas Akbar Alhafidz** </br>\n",
        "Analisis data ini mencakup beberapa aspek penting dalam memahami kepuasan pelanggan. Pertama, distribusi skor review menunjukkan bahwa mayoritas pelanggan memberikan skor tinggi, mengindikasikan tingkat kepuasan yang baik secara keseluruhan. Namun, masih ada sebagian kecil ulasan dengan skor rendah yang perlu dianalisis lebih lanjut. Selanjutnya, keterlambatan pengiriman terbukti berdampak negatif terhadap skor review pelanggan, dengan pesanan yang tepat waktu mendapatkan skor lebih tinggi dibandingkan yang terlambat.\n",
        "\n",
        "Dalam analisis jumlah produk dalam pesanan terhadap kepuasan pelanggan, tidak ditemukan pola yang jelas, menunjukkan bahwa faktor lain mungkin lebih mempengaruhi ulasan pelanggan. Sementara itu, metode pembayaran tidak memiliki dampak signifikan terhadap skor review, karena semua metode memiliki rata-rata kepuasan yang hampir serupa. Kategori produk dengan kepuasan tertinggi mencakup musik, pakaian anak, dan buku, sementara kategori dengan skor terendah termasuk layanan, PC gaming, dan perlengkapan bayi. Hal ini menunjukkan bahwa beberapa jenis produk mungkin memiliki masalah terkait kualitas atau ekspektasi pelanggan.\n",
        "\n",
        "Secara keseluruhan, analisis ini menyoroti pentingnya pengelolaan pengiriman yang lebih baik, peningkatan kualitas produk tertentu, dan pemahaman lebih dalam terhadap faktor-faktor yang mempengaruhi kepuasan pelanggan agar bisnis dapat meningkatkan layanan dan mempertahankan loyalitas pelanggan.\n",
        "\n"
      ],
      "metadata": {
        "id": "tphkQbA0p7zS"
      }
    },
    {
      "cell_type": "markdown",
      "source": [
        "**CASE 2 - Sandika Nur Rizki Sendi**\n",
        "\n",
        "Analisis ini bertujuan untuk mengidentifikasi produk yang paling sering dibeli oleh pelanggan dalam suatu periode tertentu. Dengan memahami tren pembelian ini, perusahaan dapat menyesuaikan strategi bisnis mereka, seperti meningkatkan ketersediaan stok, merancang promosi yang lebih efektif, dan mengoptimalkan kategori produk yang paling diminati. Analisis ini sangat penting dalam dunia e-commerce karena dapat memberikan wawasan berbasis data tentang perilaku konsumen.  \n",
        "\n",
        "Tahapan analisis dimulai dengan **memahami dataset**, yaitu dengan mengeksplorasi struktur data, mengidentifikasi kolom yang relevan, serta memeriksa adanya data yang hilang atau tidak valid. Selanjutnya, dilakukan **pengolahan data**, seperti menghubungkan dataset pesanan dengan dataset produk berdasarkan `product_id`, lalu menghitung jumlah pesanan untuk setiap produk. Setelah itu, data diurutkan berdasarkan frekuensi pembelian tertinggi untuk mendapatkan daftar produk yang paling banyak dipesan.  \n",
        "\n",
        "Setelah mendapatkan hasil, langkah terakhir adalah **interpretasi dan visualisasi data**. Interpretasi dilakukan dengan menganalisis pola pembelian dan kategori produk yang dominan, sementara visualisasi dapat menggunakan tabel atau grafik untuk mempermudah pemahaman hasil analisis. Dengan pendekatan ini, analisis tidak hanya memberikan angka statistik tetapi juga menghasilkan wawasan yang dapat digunakan untuk pengambilan keputusan strategis dalam bisnis berbasis data."
      ],
      "metadata": {
        "id": "lCrdzDtNc031"
      }
    },
    {
      "cell_type": "markdown",
      "source": [
        "CASE 3 - Siti Wardah Amelia\n",
        "\n",
        "Analisis mengenai produk dengan jumlah ulasan terbanyak bertujuan untuk memahami popularitas dan tingkat keterlibatan pelanggan terhadap suatu produk. Jumlah ulasan yang tinggi dapat menjadi indikator bahwa produk tersebut memiliki daya tarik yang kuat di pasar dan banyak digunakan oleh konsumen.\n",
        "\n",
        "Melalui identifikasi produk yang paling banyak mendapat ulasan, beberapa wawasan penting dapat diperoleh, seperti tren produk yang sedang diminati, tingkat kepuasan pelanggan, serta potensi masalah yang sering muncul dalam ulasan. Selain itu, data ini juga dapat digunakan untuk mengoptimalkan strategi pemasaran dengan fokus pada produk yang memiliki daya tarik tinggi serta mengelola stok dan penawaran agar lebih sesuai dengan permintaan pasar.\n",
        "\n",
        "Dengan menganalisis pola ulasan pelanggan, bisnis dapat mengambil keputusan yang lebih tepat berbasis data, meningkatkan pengalaman pelanggan, serta mengembangkan strategi yang lebih efektif dalam pemasaran dan manajemen produk.\n",
        "\n"
      ],
      "metadata": {
        "id": "MQ9k0yQxN_hu"
      }
    },
    {
      "cell_type": "markdown",
      "source": [
        "**CASE 4 - Ryo Arya Pribadi**\n",
        "\n",
        "Analisis pengaruh rating produk terhadap penjualan menunjukkan bahwa terdapat hubungan yang signifikan antara kualitas produk yang diukur melalui rating dengan volume penjualan. Berdasarkan data yang tersedia, produk dengan rating tinggi cenderung memiliki penjualan yang lebih baik. Sebagai contoh, produk dalam kategori \"perfumaria\" dan \"relogios_presentes\" dengan rating 5 memiliki penjualan yang stabil. Hal ini mengindikasikan bahwa konsumen lebih memilih produk dengan ulasan positif, yang mencerminkan kepuasan pelanggan terhadap kualitas produk.\n",
        "\n",
        "Selain itu, produk dengan rating rata-rata di atas 4, seperti dalam kategori \"beleza_saude\" dan \"utilidades_domesticas\", juga menunjukkan penjualan yang cukup baik. Ini menunjukkan bahwa meskipun rating tidak sempurna, produk dengan kualitas yang konsisten masih dapat menarik minat pembeli. Di sisi lain, produk dengan rating rendah, seperti dalam kategori \"automotivo\" dan \"pet_shop\", cenderung memiliki penjualan yang lebih rendah, yang menegaskan pentingnya menjaga kualitas produk untuk meningkatkan kepercayaan dan kepuasan konsumen.\n",
        "\n",
        "Secara keseluruhan, data ini menggarisbawahi pentingnya menjaga kualitas produk dan memastikan bahwa produk mendapatkan rating yang tinggi untuk mendorong peningkatan penjualan. Perusahaan dapat memanfaatkan informasi ini untuk mengidentifikasi area perbaikan dan mengembangkan strategi pemasaran yang lebih efektif berdasarkan umpan balik pelanggan."
      ],
      "metadata": {
        "id": "bC_k0gcgj_27"
      }
    },
    {
      "cell_type": "markdown",
      "source": [
        "**CASE 5 - Mochamad Yogi Ady Pratama**\n",
        "\n",
        "Analisis data ini mencakup beberapa aspek penting dalam memahami preferensi metode pembayaran pelanggan. Pertama, distribusi jumlah transaksi menunjukkan bahwa metode pembayaran dengan kartu kredit (credit card) mendominasi secara signifikan dengan jumlah transaksi tertinggi, yaitu 76.795 transaksi. Hal ini menunjukkan preferensi kuat pelanggan terhadap metode ini, kemungkinan karena kemudahan dan fleksibilitas yang ditawarkan.\n",
        "\n",
        "Di sisi lain, metode pembayaran lainnya seperti boleto (19.784 transaksi) dan voucher (5.775 transaksi) masih digunakan meskipun dengan frekuensi yang jauh lebih rendah. Metode pembayaran dengan kartu debit (debit card) memiliki jumlah transaksi yang paling sedikit, yaitu 1.529 transaksi, yang dapat mengindikasikan keterbatasan akses atau preferensi pelanggan yang lebih rendah terhadap metode ini. Selain itu, terdapat tiga transaksi dengan status not_defined, yang mungkin memerlukan investigasi lebih lanjut terkait kevalidan data.\n",
        "\n",
        "Selanjutnya, grafik visualisasi yang digunakan membantu memperjelas perbedaan signifikan antara berbagai metode pembayaran, dengan jarak yang besar antara transaksi menggunakan kartu kredit dan metode lainnya. Hal ini dapat menjadi indikasi bahwa metode pembayaran digital (terutama kartu kredit) masih menjadi pilihan utama."
      ],
      "metadata": {
        "id": "nWGeF7m6I8Ut"
      }
    }
  ]
}